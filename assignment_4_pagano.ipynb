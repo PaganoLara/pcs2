{
 "cells": [
  {
   "cell_type": "markdown",
   "metadata": {},
   "source": [
    "## FIB"
   ]
  },
  {
   "cell_type": "code",
   "execution_count": null,
   "metadata": {},
   "outputs": [],
   "source": [
    "def fibonacci(n,k):\n",
    "    f1= 1\n",
    "    f2= 1\n",
    "    for x in range(n-1):\n",
    "        f2,f1= f1, f1 + (f2*k)\n",
    "        #f1 = f1+(f2*k)\n",
    "        #f2= f1   \n",
    "    return f2  \n",
    "f= open(\"rosalind_fib.txt\",\"r\")\n",
    "line= f.read().split()\n",
    "n= int(line[0])\n",
    "k = int(line[1])\n",
    "print(fibonacci(n,k))"
   ]
  },
  {
   "cell_type": "markdown",
   "metadata": {},
   "source": [
    "## HAMM"
   ]
  },
  {
   "cell_type": "code",
   "execution_count": null,
   "metadata": {},
   "outputs": [],
   "source": [
    "f= open(\"rosalind_hamm.txt\",\"r\")\n",
    "line = f.read().splitlines()\n",
    "string1 = line[0]\n",
    "string2 = line[1]\n",
    "count = 0\n",
    "for i in range(len(string1)):\n",
    "    if string1[i]!= string2[i]:\n",
    "        count +=1\n",
    "print(count)"
   ]
  },
  {
   "cell_type": "markdown",
   "metadata": {},
   "source": [
    "## FIBD "
   ]
  },
  {
   "cell_type": "code",
   "execution_count": 24,
   "metadata": {},
   "outputs": [
    {
     "name": "stdout",
     "output_type": "stream",
     "text": [
      "2873957992832138936\n"
     ]
    }
   ],
   "source": [
    "f= open(\"sample_dataset.txt\",\"r\")\n",
    "line= f.readline().split()\n",
    "num= [int(x) for x in line]\n",
    "n= num[0]\n",
    "k= num[1]\n",
    "def fibd(n,k):\n",
    "    lst=[0]*k\n",
    "    lst[0]=1\n",
    "    for i in range(n):\n",
    "        live= sum(lst)\n",
    "        new_born= sum(lst[1:])\n",
    "        lst[1:]= lst[:-1]\n",
    "        lst[0]= new_born\n",
    "    return live\n",
    "print(fibd(n,k))"
   ]
  },
  {
   "cell_type": "markdown",
   "metadata": {},
   "source": [
    "## PROT"
   ]
  },
  {
   "cell_type": "code",
   "execution_count": 39,
   "metadata": {},
   "outputs": [
    {
     "name": "stdout",
     "output_type": "stream",
     "text": [
      "MLSSTLPYGWKSNRPGDVCAVVGEFGVHCPRTSSLAPGAVRDSWVLAARPTRPPLYDGCRRMFTVWILLFASMLVKRIPSEDAIGAPHTSPLFTQSVPRIVDPRSREWARMMTNWPGGLYRGATRFLTLRTWDKRSVLIARGLGYCHVAMSRGSQKTECVGYTQSEQVKVPMGLGLDHLSPVLATLTASGLKDAAWINTHGNSVDCYRSLYTLQVLCDHSRSMIKVGAPYTDALRSRMSVYGHGCPGMKSTSLTSPVGDRRPGKLNLWARSYSKSALLLLEQEQWKSEPEANVSGKPHTASTIDGTGGPHDRRPLTRSLAFVTTKHRGRIETASGHPQKFRRIFPLGYLRVGGAPVVHQSSSLVPDTGFSLLVSGDARVAEQVATRKQNQTRDRSLYYEPADSSNDYKDFSYSGYVPVCSSDITQKRPLPSVILECTVYTRFSLYLRVECGHRYRNNGQLHPLHKRMRMESPVFGYLGGCGSMLLYSMSDLLGRFKGEGEHSAGVAGKKRWGVQLLYCSEAPSHKALEGCCLKAVRKGWHLVTSTISACTKATTLQQIGYRSEPPRLLDEFQRNALSVELPDLNKSANWLSTASRTKLKHGGHTRNTEGHDSVVSSSSKLGMPLSGQKVSAEPSFSITLTRPRTQYYRPAAFIPLTIAAMSRCLVWYEEKWYHTAYWSRLRAHACQSLWPKSIKSTPSNQSLGARFDRLSSFLGFGIACSESNPLPEQLHRLRRVWPFDHSIEIPAPSLPAFDTSSTLLPLGRKLNPCPIEPQTPSRDIRVVEELISQCWFIRVRALRCYFGDRIQYGRNCYALVSPSVRRHEANQNVTTITAPCMLSLDEESLSRLGIRSSSYIICERPAYFSLGSPTARNHVLCGHIRLAASRDEAKASASVTLCNRLSRFSPSIALCLIPFVFLPDVCPSIVAVQGESALQNTDGMQHEAHPRGSLVRNAYSYIYDGEHCAGPSSHPMLKRRMSVGRNEPIRGADVKRLPVWETQSGGPLLPSVIPSIKCFVRLFKWRPLRTNADIASWPSPECSSPHCVEYPRITLAIPYLCSTDYVFQFLVDVTLRYLISLCRYGAESTTSQGSASVPTLVLPGPTAFRGIQHHVEVIILQLLPIIVQPFLRTSLYLTLRSSRRHLIVEFDVELRHTTLHYRVKSTPGRRKERCRTHCSVRTSCVAAGSQEQAPLWCTLLVLYKTPAFGKHRLPPSNDPLMPFIVATICELIRRKKKSSTFRTPLYATKRVCLLSTAGCSLMATPEVRTLRVGLQLWISISGPGARFHRVPVACVWYIMGPLNSQSRKAVAALTRYCVSTHATPVNREEARGSQKYRRCRVNSGWCHEAFVDLSGNHNICCIYPVFEEKPKTLATTTCYSGTHTPLRITVTPTTFHRALAALLMCVRFLGRTLGRLLTGIARRRERGKYHVTLVRHSCRNLNPENTPATLPVRTLVLADRICWSVHLATVPHAKKLSLVRVVYLPHPHSDDMEETTRTSPRGTTTRTLCLFISARRLLAYVRCLTASKSAQIGVLSLSGCSMGHSVLVTRIAFAVSVLDVSPQRRCSLRPGRKQFLPMGRSFQSRPIGYISGARSRQVCIMGLILLCGSMKAQVCYPYTILSSSTQRRLARKDKPSARMLNLPVQYESITMRRPSRPYHVKMRYELVADGKPSYETLSTGPYTADVVMLRVQCWTSTYSLRRRTGSMTHYISVCESSIRYCSRRCFQAPTSLTILHLYMDLPQTGEGVIDATRNKLNSTRKEPDARVECSVPPSITGVLHYPSYLWSGAFLLAKISVSYDLTVEWVAVLKRCERSEILSLIQTSQLVDAYQPLVTSPILGILVHSTSCLGIVDHFYSASSDPNRLDMCFSASPVPARQGRTETTIRISTCPGPIGAGHPSEASKVVYSPNRSQGVQVCVGRSTCSFVPWLQPGLVYRTLHASEVSAATVHYIYTARIRATICVKRDVPSNFGPNVRYVSKGSYDCSRELQRPASTLCAATLRNGTTDSDMGPCSVARSFATPRILTDFSGSLFTPMAALEAGQPGWRTKRGRLRSIKRLNDRRRPYRFTYTSIRVHVCLLPPRGTRLRRSICSSIHSDYLAWQQNVRGHALVAGFSYRDKPTVAPRLSSIRAFQCSTGGALWGTVSQIWKRIRKITLRSCAHTLGASLPDLLGARETSISSATFGGSFDVAVGVAGVIELESRHNGAVRAPAPHIDAFLSSSPTSKGKFTRVHVRASTTASATAHPLILQSPNPLSGLREKAHNPAMGLTIGTPTHYMTPGCCFGLPLLRVVGRHGRLRPSAPPNVRLYCRTHRPSATLQPYRGSYRVARAVPSWSPRMRSNGDRYLRSGKILIPHYIYKIQGVKTIGGSFAFLRMSDRTCWVGITGCCSPVRCKGTWLTLSSSPFPSRYLGLVILCRSVAQLISSVSCTPHVSLASSPLPTALRLFGRLFSVEAIGMAGVHSGEPCHNVLFLLPVPSTGTNIDNRRPSRISSGLWSLQSYAYAIRASPFLNSRITDVRHVSLLRLGKKAIYLGHNQFSELRVILAAVPADGPGRHRQIGVTRMYKLHFTRSERVAFLPVRRPIHLSPWPRTIITPCTSATPARVLIILSLARLPLPICLTSFPSYEAVRDAPEQMSTLLTGVMVARTVFLDLRLASLVTLSISLTSIPNLETVYIPHLDCPVNLISINFPTKSSDRLLLGSVLSYLGAISYLFRYHQRAGVYQAYRWYRRNGNPRAQSKLKFVSRGSQNNHLTYSLVLGEDGNVICQRPGGLLKQASSTNSSRSYEPPMACIRRVVRVINCVCSARPRMPGLRSLNLNFSSAITKQPVLQCPLYWMLGQHRGRVSDCSKDMKKTCPQSLKLLPSHRPLNPESTEICLRTGHMGRIWSPTGNVVVPRPSPRSAGWRNIFGVNQYSVIGRPGGAESVLSFGRFISWNIFRLVREYRKPTRRSTERTTSADLLRLATCVRHLGIFGIPALVPY\n"
     ]
    }
   ],
   "source": [
    "def proteins(aa):\n",
    "    new_prot=''\n",
    "    amino_acids={   'UUU': 'F',     'CUU': 'L',     'AUU': 'I',     'GUU': 'V',\n",
    "                    'UUC': 'F',     'CUC': 'L',     'AUC': 'I',     'GUC': 'V',\n",
    "                    'UUA': 'L',     'CUA': 'L',     'AUA': 'I',     'GUA': 'V',\n",
    "                    'UUG': 'L',     'CUG': 'L',     'AUG': 'M',     'GUG': 'V',\n",
    "                    'UCU': 'S',     'CCU': 'P',     'ACU': 'T',     'GCU': 'A',\n",
    "                    'UCC': 'S',     'CCC': 'P',     'ACC': 'T',     'GCC': 'A',\n",
    "                    'UCA': 'S',     'CCA': 'P',     'ACA': 'T',     'GCA': 'A',\n",
    "                    'UCG': 'S',     'CCG': 'P',     'ACG': 'T',     'GCG': 'A',\n",
    "                    'UAU': 'Y',     'CAU': 'H',     'AAU': 'N',     'GAU': 'D',\n",
    "                    'UAC': 'Y',     'CAC': 'H',     'AAC': 'N',     'GAC': 'D',\n",
    "                    'UAA': 'stop',  'CAA': 'Q',     'AAA': 'K',     'GAA': 'E',\n",
    "                    'UAG': 'stop',  'CAG': 'Q',     'AAG': 'K',     'GAG': 'E',\n",
    "                    'UGU': 'C',     'CGU': 'R',     'AGU': 'S',     'GGU': 'G',\n",
    "                    'UGC': 'C',     'CGC': 'R',     'AGC': 'S',     'GGC': 'G',\n",
    "                    'UGA': 'stop',  'CGA': 'R',     'AGA': 'R',     'GGA': 'G',\n",
    "                    'UGG': 'W',     'CGG': 'R',     'AGG': 'R',     'GGG': 'G'   }\n",
    "    for i in range(0,len(aa),3):\n",
    "        protein=amino_acids.get(aa[i:i+3])\n",
    "        new_prot+=protein\n",
    "    s =new_prot.find('M')\n",
    "    e =new_prot.find('stop')\n",
    "    new_prot=new_prot[s:e]\n",
    "    return new_prot\n",
    "f= open('rosalind_prot.txt') \n",
    "line= f.readline()\n",
    "print(proteins(line[:-1]))\n"
   ]
  },
  {
   "cell_type": "markdown",
   "metadata": {},
   "source": [
    "## MRNA "
   ]
  },
  {
   "cell_type": "code",
   "execution_count": null,
   "metadata": {},
   "outputs": [],
   "source": [
    "from collections import Counter\n",
    "from functools import reduce\n",
    "from operator import mul\n",
    "amino_acids={\t'UUU': 'F',     'CUU': 'L',     'AUU': 'I',     'GUU': 'V',\n",
    "\t\t\t\t'UUC': 'F',     'CUC': 'L',     'AUC': 'I',     'GUC': 'V',\n",
    "\t\t\t\t'UUA': 'L',     'CUA': 'L',     'AUA': 'I',     'GUA': 'V',\n",
    "\t\t\t\t'UUG': 'L',     'CUG': 'L',     'AUG': 'M',     'GUG': 'V',\n",
    "\t\t\t\t'UCU': 'S',     'CCU': 'P',     'ACU': 'T',     'GCU': 'A',\n",
    "\t\t\t\t'UCC': 'S',     'CCC': 'P',     'ACC': 'T',     'GCC': 'A',\n",
    "\t\t\t\t'UCA': 'S',     'CCA': 'P',     'ACA': 'T',     'GCA': 'A',\n",
    "\t\t\t\t'UCG': 'S',     'CCG': 'P',     'ACG': 'T',     'GCG': 'A',\n",
    "\t\t\t\t'UAU': 'Y',     'CAU': 'H',     'AAU': 'N',     'GAU': 'D',\n",
    "\t\t\t\t'UAC': 'Y',     'CAC': 'H',     'AAC': 'N',     'GAC': 'D',\n",
    "\t\t\t\t'UAA': 'stop',  'CAA': 'Q',     'AAA': 'K',     'GAA': 'E',\n",
    "\t\t\t\t'UAG': 'stop',  'CAG': 'Q',     'AAG': 'K',     'GAG': 'E',\n",
    "\t\t\t\t'UGU': 'C',     'CGU': 'R',     'AGU': 'S',     'GGU': 'G',\n",
    "\t\t\t\t'UGC': 'C',     'CGC': 'R',     'AGC': 'S',     'GGC': 'G',\n",
    "\t\t\t\t'UGA': 'stop',  'CGA': 'R',     'AGA': 'R',     'GGA': 'G',\n",
    "\t\t\t\t'UGG': 'W',     'CGG': 'R',     'AGG': 'R',     'GGG': 'G'   }\n",
    "pos = Counter(amino_acids.values())\n",
    "f= open(\"rosalind_mrna.txt\")\n",
    "line = f.readline().strip()\n",
    "x= reduce(mul, [pos[c] for c in line]) # multiplication of the frequency of the letters \n",
    "stop=  pos[\"stop\"] #stop frequency\n",
    "print((x * stop)% 10**6) #taking the remainder by the % operator\n",
    "\n"
   ]
  },
  {
   "cell_type": "markdown",
   "metadata": {},
   "source": [
    "## PRTM "
   ]
  },
  {
   "cell_type": "code",
   "execution_count": 74,
   "metadata": {},
   "outputs": [
    {
     "name": "stdout",
     "output_type": "stream",
     "text": [
      "107377.861\n"
     ]
    }
   ],
   "source": [
    "mass_table ={   \"A\" : 71.03711,  \"C\" : 103.00919, \"D\" : 115.02694, \"E\" : 129.04259, \n",
    "                \"F\" : 147.06841, \"G\" : 57.02146,  \"H\" : 137.05891, \"I\" :113.08406, \n",
    "                \"K\" : 128.09496, \"L\" : 113.08406, \"M\" : 131.04049, \"N\" : 114.04293, \n",
    "                \"P\" : 97.05276,  \"Q\" : 128.05858, \"R\" : 156.10111, \"S\" : 87.03203, \n",
    "                \"T\" : 101.04768, \"V\" : 99.06841,  \"W\" : 186.07931, \"Y\" : 163.06333, }\n",
    "f= open(\"rosalind_prtm.txt\")\n",
    "aa = f.readline()[:-1]\n",
    "weight = sum([mass_table[i] for i in aa])\n",
    "print(round(weight,3))\n"
   ]
  },
  {
   "cell_type": "markdown",
   "metadata": {},
   "source": [
    "## LCSM"
   ]
  },
  {
   "cell_type": "code",
   "execution_count": 9,
   "metadata": {},
   "outputs": [
    {
     "name": "stdout",
     "output_type": "stream",
     "text": [
      "CTCCAATTAGAGGGATTTGTGCAAATCAGACCACCCTGAACGGGCTACCAATATAGATATGCGACAACCCAG\n"
     ]
    }
   ],
   "source": [
    "from Bio import SeqIO\n",
    "def CommonString(st1, st2):\n",
    "    if len(st2) > len(st1):\n",
    "        st1, st2 = st2, st1\n",
    "    ln = len(st2)\n",
    "    for i in range(ln):\n",
    "        for j in range(i + 1):\n",
    "            k = st2[j: ln - i + j]\n",
    "            if k in st1:\n",
    "                return k\n",
    "lst=[]\n",
    "for x in  SeqIO.parse(\"/Users/lara/VISUAL_STUDIO/PCS2/homework_pcs2/rosalind_lcsm.txt\",'fasta'):\n",
    "    seq= str(x.seq)\n",
    "    lst.append(seq)\n",
    "    comune = \"\"\n",
    "    for i in range(len(lst) -1):\n",
    "        if comune == \"\":\n",
    "            comune = CommonString(lst[i], lst[i+1])\n",
    "            c=len(CommonString(lst[i+1], comune))\n",
    "        else:\n",
    "            if len(comune) >= c :\n",
    "                comune = CommonString(lst[i+1],comune)\n",
    "    com_seq= comune\n",
    "print(com_seq)\n",
    "\n"
   ]
  },
  {
   "cell_type": "markdown",
   "metadata": {},
   "source": [
    "## PERM  "
   ]
  },
  {
   "cell_type": "code",
   "execution_count": null,
   "metadata": {},
   "outputs": [],
   "source": [
    "import numpy\n",
    "import itertools\n",
    "from collections import Counter\n",
    "f = open(\"rosalind_perm.txt\")\n",
    "n = int(f.read())\n",
    "order = numpy.arange(1, n+1, 1) #np.arange(5,6,1)--->[1 2 3 4 5](take the first number of the array divided in subgroups)\n",
    "perm = list(itertools.permutations(order))\n",
    "print(len(perm))\n",
    "for i in Counter(perm):\n",
    "    print(' '.join(map(str,i)))"
   ]
  },
  {
   "cell_type": "markdown",
   "metadata": {},
   "source": [
    "## REVP "
   ]
  },
  {
   "cell_type": "code",
   "execution_count": null,
   "metadata": {},
   "outputs": [],
   "source": [
    "from Bio.Seq import Seq\n",
    "id = []\n",
    "seq = []\n",
    "def palindrome(s1):\n",
    "    for i in range(len(s1)):\n",
    "        for j in range(4,13,1): #range(start, stop, step)\n",
    "            cc= Seq(s1[i:i+j]).reverse_complement()\n",
    "            if s1[i:i+j] == cc and (i+j <= len(s1)):\n",
    "                print(i+1, j)\n",
    "\n",
    "for x in SeqIO.parse('rosalind_revp.txt', 'fasta'):\n",
    "    id.append(str(x.name))\n",
    "    seq.append(str(x.seq))\n",
    "s1 = seq[0]\n",
    "palindrome(s1)"
   ]
  },
  {
   "cell_type": "markdown",
   "metadata": {},
   "source": [
    "## LEXF "
   ]
  },
  {
   "cell_type": "code",
   "execution_count": null,
   "metadata": {},
   "outputs": [],
   "source": [
    "import itertools\n",
    "import pandas as pd\n",
    "\n",
    "f= open(\"rosalind_lexf.txt\", 'r') \n",
    "line = f.readline().split()\n",
    "n = int(f.readline().strip())\n",
    "result = list(itertools.product(line, repeat = n)) # itertools.product(*iterables, repeat=1)\n",
    "join= [\"\".join(x) for x in result]\n",
    "print(\"\\n\".join(join))\n"
   ]
  },
  {
   "cell_type": "markdown",
   "metadata": {},
   "source": [
    "## LGIS "
   ]
  },
  {
   "cell_type": "code",
   "execution_count": null,
   "metadata": {},
   "outputs": [],
   "source": [
    "def LongestIncreasing(nums, n):\n",
    "    lst = []      # len of the new_list evry loop, int\n",
    "    new_list = [] # list of list with all the possible sub seq\n",
    "    for i in range(n):\n",
    "        lst.append(1)\n",
    "        new_list.append([nums[i]])\n",
    "        for j in range(i):\n",
    "            if nums[j] < nums[i]:\n",
    "                lst[i] = max(lst[i], lst[j] + 1)\n",
    "                if len(new_list[i]) <= len(new_list[j]):\n",
    "                    new_list[i] = new_list[j] + [nums[i]]\n",
    "    return max(lst, new_list[lst.index(max(lst))])\n",
    "\n",
    "def LongestDecreasing(nums, n):\n",
    "    lst = []      # len of the new_list evry loop, int\n",
    "    new_list = [] # list of list with all the possible sub seq\n",
    "    for i in range(n):\n",
    "        lst.append(1)\n",
    "        new_list.append([nums[i]])\n",
    "        for j in range(i):\n",
    "            if nums[j] > nums[i]:\n",
    "                lst[i] = max(lst[i], lst[j] + 1)\n",
    "                if len(new_list[i]) <= len(new_list[j]):\n",
    "                    new_list[i] = new_list[j] + [nums[i]]\n",
    "    return max(lst, new_list[lst.index(max(lst))])\n",
    "\n",
    "f = open(\"rosalind_lgis.txt\", \"r\") \n",
    "n = int(f.readline().strip())\n",
    "nums = list(int(i) for i in f.readline().strip().split(\" \"))\n",
    "\n",
    "print(*LongestIncreasing(nums, n))\n",
    "print(*LongestDecreasing(nums, n))"
   ]
  }
 ],
 "metadata": {
  "kernelspec": {
   "display_name": "Python 3.8.8 ('base')",
   "language": "python",
   "name": "python3"
  },
  "language_info": {
   "codemirror_mode": {
    "name": "ipython",
    "version": 3
   },
   "file_extension": ".py",
   "mimetype": "text/x-python",
   "name": "python",
   "nbconvert_exporter": "python",
   "pygments_lexer": "ipython3",
   "version": "3.8.8"
  },
  "orig_nbformat": 4,
  "vscode": {
   "interpreter": {
    "hash": "40d3a090f54c6569ab1632332b64b2c03c39dcf918b08424e98f38b5ae0af88f"
   }
  }
 },
 "nbformat": 4,
 "nbformat_minor": 2
}
