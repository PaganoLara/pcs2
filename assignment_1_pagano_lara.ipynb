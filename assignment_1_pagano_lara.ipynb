{
 "cells": [
  {
   "cell_type": "markdown",
   "metadata": {},
   "source": [
    "# Basic Data Types 5/5"
   ]
  },
  {
   "cell_type": "markdown",
   "metadata": {},
   "source": [
    "- find the runner-up score"
   ]
  },
  {
   "cell_type": "code",
   "execution_count": null,
   "metadata": {},
   "outputs": [],
   "source": [
    "if __name__ == '__main__':\n",
    "    n = int(input())\n",
    "    arr = map(int, input().split())\n",
    "    \n",
    "    arr_list= list(arr)\n",
    "    new_list= list()\n",
    "    for i in arr_list:\n",
    "        if i not in new_list:\n",
    "            new_list.append(i)\n",
    "        else:\n",
    "            continue\n",
    "    score = sorted(new_list, reverse=True)\n",
    "    print(score[1])\n"
   ]
  },
  {
   "cell_type": "markdown",
   "metadata": {},
   "source": [
    "- nested list"
   ]
  },
  {
   "cell_type": "code",
   "execution_count": null,
   "metadata": {},
   "outputs": [],
   "source": [
    "if __name__ == '__main__':\n",
    "    name_score_list=[]\n",
    "    score_list= []\n",
    "    runner_name=[]\n",
    "    for _ in range(int(input())):\n",
    "        name = input()\n",
    "        score = float(input())\n",
    "        score_list.append(score)\n",
    "        name_score_list.append([name, score])\n",
    "        name_score_list.sort()\n",
    "        \n",
    "    decrescent= sorted(set(score_list), reverse=True)\n",
    "    \n",
    "    final= decrescent[-2]\n",
    "\n",
    "    for i in name_score_list:\n",
    "        if i[1] == final:\n",
    "            runner_name.append(i[0])\n",
    "    print(*runner_name, sep=\"\\n\")"
   ]
  },
  {
   "cell_type": "markdown",
   "metadata": {},
   "source": [
    "- finding the percentage "
   ]
  },
  {
   "cell_type": "code",
   "execution_count": null,
   "metadata": {},
   "outputs": [],
   "source": [
    "if __name__ == '__main__':\n",
    "    n = int(input())\n",
    "    student_marks = {}\n",
    "    for _ in range(n):\n",
    "        name, *line = input().split()\n",
    "        scores = list(map(float, line))\n",
    "        student_marks[name] = scores\n",
    "    query_name = input()\n",
    "    average = sum(student_marks[query_name])/len(student_marks[query_name])\n",
    "    print('%.2f'%average)"
   ]
  },
  {
   "cell_type": "markdown",
   "metadata": {},
   "source": [
    "- lists"
   ]
  },
  {
   "cell_type": "code",
   "execution_count": null,
   "metadata": {},
   "outputs": [],
   "source": [
    "if __name__ == '__main__':\n",
    "    N = int(input())\n",
    "    new_list =[]\n",
    "    for i in range(N):\n",
    "        n = input().split()\n",
    "        if n[0] == \"insert\":\n",
    "            new_list.insert(int(n[1]), int(n[2]))\n",
    "        elif n[0] == \"remove\":\n",
    "            new_list.remove(int(n[1]))\n",
    "        elif n[0] == \"append\":\n",
    "            new_list.append(int(n[1]))\n",
    "        elif n[0] == \"sort\":\n",
    "            new_list.sort()\n",
    "        elif n[0] == \"pop\":\n",
    "            new_list.pop()\n",
    "        elif n[0] == \"reverse\":\n",
    "            new_list.reverse()\n",
    "        else:\n",
    "            print(new_list)"
   ]
  },
  {
   "cell_type": "markdown",
   "metadata": {},
   "source": [
    "- tuples"
   ]
  },
  {
   "cell_type": "code",
   "execution_count": null,
   "metadata": {},
   "outputs": [],
   "source": [
    "if __name__ == '__main__':\n",
    "    n = int(input())\n",
    "    integer_list = map(int, input().split())\n",
    "    t = tuple(integer_list) \n",
    "    print(hash(t))"
   ]
  },
  {
   "cell_type": "markdown",
   "metadata": {},
   "source": [
    "# Strings 4/4"
   ]
  },
  {
   "cell_type": "markdown",
   "metadata": {},
   "source": [
    "- string split and join"
   ]
  },
  {
   "cell_type": "code",
   "execution_count": null,
   "metadata": {},
   "outputs": [],
   "source": [
    "\n",
    "def split_and_join(line):\n",
    "    # write your code here\n",
    "    phrase=\"-\".join(line.split())\n",
    "    return (phrase)\n",
    "\n",
    "if __name__ == '__main__':\n",
    "    line = input()\n",
    "    result = split_and_join(line)\n",
    "    print(result)\n",
    "    "
   ]
  },
  {
   "cell_type": "markdown",
   "metadata": {},
   "source": [
    "- what's your name"
   ]
  },
  {
   "cell_type": "code",
   "execution_count": null,
   "metadata": {},
   "outputs": [],
   "source": [
    "\n",
    "def print_full_name(first, last):\n",
    "    # Write your code here\n",
    "    print(\"Hello\",first, last+\"!\" \" \" \"You just delved into python.\")\n",
    "    \n",
    "if __name__ == '__main__':\n",
    "    first_name = input()\n",
    "    last_name = input()\n",
    "    print_full_name(first_name, last_name)"
   ]
  },
  {
   "cell_type": "markdown",
   "metadata": {},
   "source": [
    "- sWAP cAse"
   ]
  },
  {
   "cell_type": "code",
   "execution_count": null,
   "metadata": {},
   "outputs": [],
   "source": [
    "def swap_case(s): \n",
    "    return s.swapcase()\n",
    "\n",
    "if __name__ == '__main__':\n",
    "    s = input()\n",
    "    result = swap_case(s)\n",
    "    print(result)"
   ]
  },
  {
   "cell_type": "markdown",
   "metadata": {},
   "source": [
    "- minion game"
   ]
  },
  {
   "cell_type": "code",
   "execution_count": null,
   "metadata": {},
   "outputs": [],
   "source": [
    "def minion_game(string):\n",
    "    # your code goes here\n",
    "    string= string.upper()\n",
    "    kevin_vocals = 0 #kevin\n",
    "    stuart_consonants = 0 #stuart\n",
    "    length = len(string)\n",
    "    \n",
    "    for x in string: \n",
    "        if x =='A' or x =='E' or x =='I' or x =='O' or x =='U':\n",
    "            kevin_vocals += length\n",
    "        else:\n",
    "            stuart_consonants += length\n",
    "        length -= 1    \n",
    "        \n",
    "    if kevin_vocals < stuart_consonants:\n",
    "        print(\"Stuart\", stuart_consonants )\n",
    "    elif kevin_vocals > stuart_consonants:\n",
    "        print(\"Kevin\",kevin_vocals )\n",
    "    else:\n",
    "        print(\"Draw\")\n",
    "   \n",
    "if __name__ == '__main__':\n",
    "    s = input()\n",
    "    minion_game(s)"
   ]
  },
  {
   "cell_type": "markdown",
   "metadata": {},
   "source": [
    "# Sets 4/4"
   ]
  },
  {
   "cell_type": "markdown",
   "metadata": {},
   "source": [
    "- No Idea!"
   ]
  },
  {
   "cell_type": "code",
   "execution_count": null,
   "metadata": {},
   "outputs": [],
   "source": [
    "\n",
    "# Enter your code here. Read input from STDIN. Print output to STDOUT\n",
    "\n",
    "input_n_m= input().split()\n",
    "n = input().split()\n",
    "setA_like = set(input().split())\n",
    "setB_dislike = set(input().split())\n",
    "happiness= 0\n",
    "\n",
    "for i in n:\n",
    "    if i in setA_like:\n",
    "        happiness += 1\n",
    "    elif i in setB_dislike:\n",
    "        happiness -= 1\n",
    "        \n",
    "print(happiness)"
   ]
  },
  {
   "cell_type": "markdown",
   "metadata": {},
   "source": [
    "-  check subset"
   ]
  },
  {
   "cell_type": "code",
   "execution_count": null,
   "metadata": {},
   "outputs": [],
   "source": [
    "T= int(input())\n",
    "for i in range(T):\n",
    "    a = int(input())\n",
    "    setA = set(input().split())\n",
    "    b = int(input())\n",
    "    setB= set(input().split())\n",
    "    print(True if setA.issubset(setB) else False)\n",
    "    continue    "
   ]
  },
  {
   "cell_type": "markdown",
   "metadata": {},
   "source": [
    "- set.intersection() operation"
   ]
  },
  {
   "cell_type": "code",
   "execution_count": null,
   "metadata": {},
   "outputs": [],
   "source": [
    "e = input()\n",
    "Eng = set(input().split())\n",
    "f = input()\n",
    "Fre = set(input().split())\n",
    "print(len(Eng & Fre))"
   ]
  },
  {
   "cell_type": "markdown",
   "metadata": {},
   "source": [
    "- Set .add()"
   ]
  },
  {
   "cell_type": "code",
   "execution_count": null,
   "metadata": {},
   "outputs": [],
   "source": [
    "setN = set({})\n",
    "T=int(input())\n",
    "for i in range(T):\n",
    "    X=input()\n",
    "    setN.add(X)\n",
    "print(len(setN))"
   ]
  },
  {
   "cell_type": "markdown",
   "metadata": {},
   "source": [
    "# Math 4/4"
   ]
  },
  {
   "cell_type": "markdown",
   "metadata": {},
   "source": [
    "- find angle MBC "
   ]
  },
  {
   "cell_type": "code",
   "execution_count": null,
   "metadata": {},
   "outputs": [],
   "source": [
    "import math \n",
    "c1= int(input()) #ab\n",
    "c2= int(input()) #bc\n",
    "h = (c1**2 + c2**2)**0.5 #ac\n",
    "m= h/2\n",
    "Theta = math.degrees(math.atan(c1/c2))\n",
    "print(str(round(Theta))+u'\\u00b0')"
   ]
  },
  {
   "cell_type": "markdown",
   "metadata": {},
   "source": [
    "- Power - Mod Power"
   ]
  },
  {
   "cell_type": "code",
   "execution_count": null,
   "metadata": {},
   "outputs": [],
   "source": [
    "a = int(input())\n",
    "b = int(input())\n",
    "m = int(input())\n",
    "\n",
    "print(pow(a, b))\n",
    "print(pow(a, b, m))"
   ]
  },
  {
   "cell_type": "markdown",
   "metadata": {},
   "source": [
    "- triangle quest"
   ]
  },
  {
   "cell_type": "code",
   "execution_count": null,
   "metadata": {},
   "outputs": [],
   "source": [
    "for i in range(1, int(input())): \n",
    "    print((pow(10,i)//9)*i)"
   ]
  },
  {
   "cell_type": "markdown",
   "metadata": {},
   "source": [
    "- Mod Divmod"
   ]
  },
  {
   "cell_type": "code",
   "execution_count": null,
   "metadata": {},
   "outputs": [],
   "source": [
    "a = int(input())\n",
    "b = int(input())\n",
    "\n",
    "print(a//b)\n",
    "print(a%b)\n",
    "print(divmod(a,b))"
   ]
  },
  {
   "cell_type": "markdown",
   "metadata": {},
   "source": [
    "# IterTools 4/4"
   ]
  },
  {
   "cell_type": "markdown",
   "metadata": {},
   "source": [
    "- Compress the String!"
   ]
  },
  {
   "cell_type": "code",
   "execution_count": null,
   "metadata": {},
   "outputs": [],
   "source": [
    "from itertools import groupby\n",
    "String = input()\n",
    "for x, quantity in groupby(String):\n",
    "    print((len(list(quantity)), int(x)), end = \" \") "
   ]
  },
  {
   "cell_type": "markdown",
   "metadata": {},
   "source": [
    "- itertools.product()"
   ]
  },
  {
   "cell_type": "code",
   "execution_count": null,
   "metadata": {},
   "outputs": [],
   "source": [
    "from itertools import product\n",
    "\n",
    "Firtst_list = list(product(input().split(), input().split())) \n",
    "list(print( \"(\" + x + \", \" + y + \")\", sep=\"\", end=\" \" ) for x,y in Firtst_list)\n"
   ]
  },
  {
   "cell_type": "markdown",
   "metadata": {},
   "source": [
    "- itertools.combinations()"
   ]
  },
  {
   "cell_type": "code",
   "execution_count": null,
   "metadata": {},
   "outputs": [],
   "source": [
    "\n",
    "from itertools import combinations\n",
    "\n",
    "s, k  = input().split()\n",
    "int_k= int(k)+1\n",
    "sort_s= sorted(s)\n",
    "\n",
    "for i in range(1, int_k):\n",
    "    ([print(''.join(y)) for y in combinations(sort_s, i)])\n"
   ]
  },
  {
   "cell_type": "markdown",
   "metadata": {},
   "source": [
    "- itertools.permutations()"
   ]
  },
  {
   "cell_type": "code",
   "execution_count": null,
   "metadata": {},
   "outputs": [],
   "source": [
    "from itertools import permutations\n",
    "s,k = input().split()\n",
    "int_k= int(k)\n",
    "sort_s= sorted(s)\n",
    "\n",
    "for i in list(permutations(sort_s, int_k)):\n",
    "    print(''.join(i))"
   ]
  },
  {
   "cell_type": "markdown",
   "metadata": {},
   "source": [
    "# Collections 4/4"
   ]
  },
  {
   "cell_type": "markdown",
   "metadata": {},
   "source": [
    "- collections.Counter()"
   ]
  },
  {
   "cell_type": "code",
   "execution_count": null,
   "metadata": {},
   "outputs": [],
   "source": [
    "from collections import Counter\n",
    "\n",
    "shoes_available = input()\n",
    "list_shoes_av = input().split()\n",
    "dict_Sh_sz = dict(Counter(list_shoes_av))\n",
    "income = 0\n",
    "\n",
    "for i in range(int(input())):\n",
    "    key, value = input().split()\n",
    "    if key in list_shoes_av and dict_Sh_sz[key] > 0:\n",
    "        income += int(value)\n",
    "        dict_Sh_sz[key] -= 1\n",
    "print(income)\n",
    "    \n"
   ]
  },
  {
   "cell_type": "markdown",
   "metadata": {},
   "source": [
    "- DefaultDict Tutorial"
   ]
  },
  {
   "cell_type": "code",
   "execution_count": null,
   "metadata": {},
   "outputs": [],
   "source": [
    "from collections import defaultdict \n",
    "\n",
    "dict1 = defaultdict(list)\n",
    "m, n = input().split()\n",
    "int_m= int(m)+1\n",
    "\n",
    "for i in range(1,int_m):\n",
    "    dict1[input()].append(i)\n",
    "    \n",
    "for i in range(int(n)):\n",
    "    x = dict1.get(input())\n",
    "    if not x: x = [-1]\n",
    "    print(*x)"
   ]
  },
  {
   "cell_type": "markdown",
   "metadata": {},
   "source": [
    "- Collections.OrderedDict()"
   ]
  },
  {
   "cell_type": "code",
   "execution_count": null,
   "metadata": {},
   "outputs": [],
   "source": [
    "\n",
    "from collections import OrderedDict\n",
    "\n",
    "Or_Dict = OrderedDict() \n",
    "for _ in range(int(input())):\n",
    "    item_name, net_price = input().rsplit(\" \", 1)\n",
    "    Or_Dict[item_name] = Or_Dict.get(item_name, 0) + int(net_price)\n",
    "\n",
    "for item_name, net_price in Or_Dict.items():\n",
    "    print(item_name, net_price)"
   ]
  },
  {
   "cell_type": "markdown",
   "metadata": {},
   "source": [
    "- Collections.deque()"
   ]
  },
  {
   "cell_type": "code",
   "execution_count": null,
   "metadata": {},
   "outputs": [],
   "source": [
    "from collections import deque\n",
    "dec = deque()\n",
    "operation = int(input())\n",
    "new_list = []\n",
    "\n",
    "for i in range(operation):\n",
    "    new_list = [i for i in input().split()]\n",
    "    \n",
    "    if \"append\" in new_list:\n",
    "        dec.append(int(new_list[1]))\n",
    "    \n",
    "    elif \"appendleft\" in new_list:\n",
    "        dec.appendleft(int(new_list[1]))\n",
    "        \n",
    "    elif \"pop\" in new_list:\n",
    "        dec.pop()\n",
    "        \n",
    "    elif \"popleft\" in new_list:\n",
    "        dec.popleft()\n",
    "\n",
    "for item in dec:\n",
    "    print(item, end=' ')"
   ]
  }
 ],
 "metadata": {
  "kernelspec": {
   "display_name": "Python 3.8.8 ('base')",
   "language": "python",
   "name": "python3"
  },
  "language_info": {
   "codemirror_mode": {
    "name": "ipython",
    "version": 3
   },
   "file_extension": ".py",
   "mimetype": "text/x-python",
   "name": "python",
   "nbconvert_exporter": "python",
   "pygments_lexer": "ipython3",
   "version": "3.8.8"
  },
  "orig_nbformat": 4,
  "vscode": {
   "interpreter": {
    "hash": "40d3a090f54c6569ab1632332b64b2c03c39dcf918b08424e98f38b5ae0af88f"
   }
  }
 },
 "nbformat": 4,
 "nbformat_minor": 2
}
