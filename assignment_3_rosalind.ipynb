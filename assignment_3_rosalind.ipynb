{
 "cells": [
  {
   "cell_type": "markdown",
   "metadata": {},
   "source": [
    "# DNA"
   ]
  },
  {
   "cell_type": "code",
   "execution_count": 1,
   "metadata": {},
   "outputs": [
    {
     "name": "stdout",
     "output_type": "stream",
     "text": [
      "207 211 231 224\n"
     ]
    }
   ],
   "source": [
    "x= \"AGTCTCGATGACATTTAAGAAATTCTCCGGGCACTGCGGCTGCTTCTTTAGGATGTCTTACATGACAGCAGGAAGATAGGTTCCTATCACGATGGGTAGATTTTCTGGCGAGGGGTCTACAAGAACTCTGGCTCACACTAGCCAGCATCTGAGTGGGGAAGGGGGGATTCATCAAATCTAGTGCCGGGTATGGGAGAAGCTCCCTATTACATTGTGTGATCGACGGGCGCGGCAAGAATACTTCTAGGAGCCAAGTCACTTACTGTGGAGGAGCTGGACACTTACTGAAGCATGACATCCTACCTTCACTGGAATAGGCACTCGCTTCGTACCGTTCTTGGAGGTTCGGCTATTTCCGATAGTGGCCGGTTTCTTTCTCCCGGCATACTCGATTGTTGCCGATCGAGCCTTTCCCTCCGGCCGCGGGGTTATGTAGGAGTATTAAGATGCCGCGTTACATGCAGATGTTAGAACTACTGGGAGTCTTAAAGGTTCAAGTAGAACCCTCTGCAAACAGGCAAAATAATGGACCCCAGACTTAATAGGTTGCTTCAGTCATCTACTAGAGCGCGGCACCCGGCACTCCTGGGTACCAAGACAGTTATGGCGCTTGACCTGAGACAGTGCGCGTTTATTGTTATTCCTCAAGTCATTACTGTAACTTAAGGGGCATACCAGAAAATAAGCGATGAATGGGACGAGTCCTCCGTGTACCCTTCCACAAGACCTTCAACTCGACGGCTGTTGGACGCTCGAGCCCGTAACTTAGCAGGTTGCTGCTTTGGTTGGAGCGGCGGGACTTCTCGCAAGATGGACAGTTTCTCCGACACGCTGTCTTCGAACCCAAAAACCGTCCACCATGGTATTGGTTGA\"\n",
    "\n",
    "d=[0,0,0,0]\n",
    "\n",
    "for i in x:\n",
    "    if i== \"A\":\n",
    "        d[0]+=1\n",
    "    elif i==\"C\":\n",
    "        d[1]+=1\n",
    "    elif i==\"G\":\n",
    "        d[2]+=1\n",
    "    elif i==\"T\":\n",
    "        d[3]+=1\n",
    "j=' '.join(map(str, d))\n",
    "print (j)"
   ]
  },
  {
   "cell_type": "markdown",
   "metadata": {},
   "source": [
    "# Rna 1"
   ]
  },
  {
   "cell_type": "code",
   "execution_count": 2,
   "metadata": {},
   "outputs": [
    {
     "name": "stdout",
     "output_type": "stream",
     "text": [
      "AAUCAAAUGAUUCAUGUGGGCACGUCCGUGCCUAAGCAUGGUAUAGUGAGCCCGAUCGCAGAAGGCGAACAAGUACCCUAUACCUAUCGUUCACUAACCUCGCUAGCAUUGCCGGUCCCCCUCCGCAUAUAACCAUACGCAUUGUGGAAAAUUAAUGACCCCCACAUAUAUCCGGGGACCGGAGAGUUUUUAGAGCGCUACCUCUUCGUGACUGUUGCCGUAAACCCACGAUUAAAUUUCCUGGUACGAGGAGACCAGGUUUCCUAUGAUAAGUAAAGCGGGCAAAGUUUAGCAGAACGUGCGAGCAGUCACUCACAUUCCUGCAGCCAUAAGACAUAAUUAUGGGGGGUUUUCACACCACGCUGUCAGAAGCCUGCCACACUAAAGUAUUGAGUCUAAGAUGCGUACGGGGUUGGUAGGAUCUUGGAAGCUACAGCCACCGCGGAUGUACAUCCGGCCCCGUCUCCAGAGUUAGUCCGUGGGAUCGCUAGAUUGGGCGACUGUGCCGAACUAGACUGAGAGUAGACAACUGUAUCUUAUUGACCGUUUGCUUACUAGAAUCACGUCAGUACAGAAAAUAUUAGUUCGCGGUCGUGUGUGGGCGUCGAUGAGGAAAUAUUAACUGUUACACCCUAAACAUCGGUUUGUACUAUAUAUUUAGCUACACGCCCUGAAGGUCAGUCAUUUUGAAGAAAGACAGUGGUGUUAGCAAGUGAUCGUGUCCAAAAGGAUGCCCUGACGCACGACAAAUAAAGAUUAUCAGAGCGGCUUUAGCACGGUGUGGACACCAUUGGGUUCAAACGUGAAUAAAUUUGGAAGUGUAGGACAAUCUACGUGCAUAUAGCUUUAGAACAAAUGGGGGCAUGCG\n",
      "AATCAAATGATTCATGTGGGCACGTCCGTGCCTAAGCATGGTATAGTGAGCCCGATCGCAGAAGGCGAACAAGTACCCTATACCTATCGTTCACTAACCTCGCTAGCATTGCCGGTCCCCCTCCGCATATAACCATACGCATTGTGGAAAATTAATGACCCCCACATATATCCGGGGACCGGAGAGTTTTTAGAGCGCTACCTCTTCGTGACTGTTGCCGTAAACCCACGATTAAATTTCCTGGTACGAGGAGACCAGGTTTCCTATGATAAGTAAAGCGGGCAAAGTTTAGCAGAACGTGCGAGCAGTCACTCACATTCCTGCAGCCATAAGACATAATTATGGGGGGTTTTCACACCACGCTGTCAGAAGCCTGCCACACTAAAGTATTGAGTCTAAGATGCGTACGGGGTTGGTAGGATCTTGGAAGCTACAGCCACCGCGGATGTACATCCGGCCCCGTCTCCAGAGTTAGTCCGTGGGATCGCTAGATTGGGCGACTGTGCCGAACTAGACTGAGAGTAGACAACTGTATCTTATTGACCGTTTGCTTACTAGAATCACGTCAGTACAGAAAATATTAGTTCGCGGTCGTGTGTGGGCGTCGATGAGGAAATATTAACTGTTACACCCTAAACATCGGTTTGTACTATATATTTAGCTACACGCCCTGAAGGTCAGTCATTTTGAAGAAAGACAGTGGTGTTAGCAAGTGATCGTGTCCAAAAGGATGCCCTGACGCACGACAAATAAAGATTATCAGAGCGGCTTTAGCACGGTGTGGACACCATTGGGTTCAAACGTGAATAAATTTGGAAGTGTAGGACAATCTACGTGCATATAGCTTTAGAACAAATGGGGGCATGCG\n"
     ]
    }
   ],
   "source": [
    "dna_txt= open(\"rosalind_dna.txt\",\"r\")\n",
    "dna= dna_txt.readlines()\n",
    "delimitant= \" \"\n",
    "x= delimitant.join(dna)\n",
    "\n",
    "rna= x.replace(\"T\",\"U\")\n",
    "print(rna)\n",
    "print(x)\n"
   ]
  },
  {
   "cell_type": "markdown",
   "metadata": {},
   "source": [
    "# RNA"
   ]
  },
  {
   "cell_type": "code",
   "execution_count": 4,
   "metadata": {},
   "outputs": [
    {
     "name": "stdout",
     "output_type": "stream",
     "text": [
      "CCAUAUUCCCUGGUUCCCUCUGCCGGUAGUAGACCAGCGCGAAAUGGGACAGUGGUCGCGCCGACAACCAUGAGGGGGAGCAACGCCGGCAUGCUGAGCAUAUCAUCCUAGCUUAGCCAAACCUCCUGGUCAGGCUUGGCGGAGCCGAAUUUCUCGCCCGGUCAUUCCUCGUUUCUCUGUUGCCAUCCCUGAAAGAUUCUUCUUGAUCCGUCAGCAAAUGGGAUAGGUUAGUCGACCAACAGAACUCUAUAAGUCAGAGGUGAGGACCUCGCUACAUUAGGCAAAGAAAAGGCUGGACAACGUUAAUUCCCCUGCGUCGUUGCGUAGCCCAGAAGAAUAGUCGAUACCUUGUACGGCACAAGCUGCUGCCAUAGUGGUACAUCGCAAAAAAUUGCUGAAAUCAAUGAAUUGGUUCUCCUGAUGAAUCUUGUAUCCUCUAUGUUUCGGUCGGCAUACAGUAACGCGAACUAAUAACGCUGAUAUCGGGAUAUCACGCGGCAAGGAUUACCGGCUGUUACGCCUCCGGUCGCAUACACAAAUGUCUGCCCUUGAUACAUCGCACAGGUUUGUCAUUACAACAUACUGGGCUAUAACAAGCAGCCUGGCCCCUUGGGGAGUAACCAUAACCACUUUACGUGUCACUAAUCUGCACAUACUCCAACUCGCACGGUGAGCGGUAAUAGUAAGACGGGGGUUGCACUCGUUCCGGGGAAACGCGGGGCGUUACCUGGGCCAGUGUAUCGCCCGUCAAGGAAUACCCGCACAAGAGUGUGAUGCAUCGCUAGUACAUUAAUAAUUCAGCGAGGAUGGCAUUGACGAUCUUUGCUCGGUAGGAAUAUGAAUGAAUCUGUCCUACUCUCCCCGAGGUUGUGCAUCGACCCCGCUAACGUAGCAGAGUACCAUUUCAUGAGUUAUUUUUCCUCCGGAUCCAUGCCAAUAAAUGCGUAGCACGAAA\n"
     ]
    }
   ],
   "source": [
    "dna=\"CCATATTCCCTGGTTCCCTCTGCCGGTAGTAGACCAGCGCGAAATGGGACAGTGGTCGCGCCGACAACCATGAGGGGGAGCAACGCCGGCATGCTGAGCATATCATCCTAGCTTAGCCAAACCTCCTGGTCAGGCTTGGCGGAGCCGAATTTCTCGCCCGGTCATTCCTCGTTTCTCTGTTGCCATCCCTGAAAGATTCTTCTTGATCCGTCAGCAAATGGGATAGGTTAGTCGACCAACAGAACTCTATAAGTCAGAGGTGAGGACCTCGCTACATTAGGCAAAGAAAAGGCTGGACAACGTTAATTCCCCTGCGTCGTTGCGTAGCCCAGAAGAATAGTCGATACCTTGTACGGCACAAGCTGCTGCCATAGTGGTACATCGCAAAAAATTGCTGAAATCAATGAATTGGTTCTCCTGATGAATCTTGTATCCTCTATGTTTCGGTCGGCATACAGTAACGCGAACTAATAACGCTGATATCGGGATATCACGCGGCAAGGATTACCGGCTGTTACGCCTCCGGTCGCATACACAAATGTCTGCCCTTGATACATCGCACAGGTTTGTCATTACAACATACTGGGCTATAACAAGCAGCCTGGCCCCTTGGGGAGTAACCATAACCACTTTACGTGTCACTAATCTGCACATACTCCAACTCGCACGGTGAGCGGTAATAGTAAGACGGGGGTTGCACTCGTTCCGGGGAAACGCGGGGCGTTACCTGGGCCAGTGTATCGCCCGTCAAGGAATACCCGCACAAGAGTGTGATGCATCGCTAGTACATTAATAATTCAGCGAGGATGGCATTGACGATCTTTGCTCGGTAGGAATATGAATGAATCTGTCCTACTCTCCCCGAGGTTGTGCATCGACCCCGCTAACGTAGCAGAGTACCATTTCATGAGTTATTTTTCCTCCGGATCCATGCCAATAAATGCGTAGCACGAAA\"\n",
    "rna= dna.replace(\"T\",\"U\")\n",
    "print(rna)"
   ]
  },
  {
   "cell_type": "markdown",
   "metadata": {},
   "source": [
    "# REVC"
   ]
  },
  {
   "cell_type": "code",
   "execution_count": 3,
   "metadata": {},
   "outputs": [
    {
     "name": "stdout",
     "output_type": "stream",
     "text": [
      "GGTCTCGCGCGAGGCAATCGCTGTTACTCCGCCGATGAATAATGTTGGCTCGTGTTCACCTGCGGTATGAGATACGTGCGGTTTACAGTGTAGATCCTCGTCAGGAGGCATTTATTAGCATTTTTATCGTCCGCGCTAGTTGGCTACGCGCACCCATCAGAAGGGAAGCTGGTCCTTACCAAATCGGAACTATTTGAATCTCTTCACCTCGCTCCATACGAAGTTCGCAGACTTACGCTTCTTAGAAGCATCGTGGGTGAACTCCAGGGAGTTTAGTGAAATGTTCGATTGCTGGAACGTCGTTGTCAAGCCAGACACTTATACATGATGCTCGGCTAAGTCGCCCGTGATGCAATGCCTTTCGCGGGTGAACTCTAGAGAAGTGTTTCTCATCAGTCGATGCGGCTGTCTAAACATACTCCTTTTAAAGTTGCCCCGCTTAGCCGTTCCCGTGCCAGAACACCTGTGTTCGAACCACGGTAGCAGGTCAGGGCCCAGTTCCTCATCCGGGGTTTGCTTTGTAACGGATCGATACGAGGTAAGCTCTTCTACACCGTCCGCTGAGAATTGTAATTAATGCCGGTGGACCGACATCTGTGGTCTTGCCAACCCACGTCTGACGATGGTAGGCGGCACATCGGAAGTAGAAGTGACACGACTTCCAGGTTTTATAACTGATTTCAGCGCTCTCACCGCCGGAATGGTGAGAATCGATATGGTCATGGGCGGCTCATAGGGTAAAGTGTCTTTTTGGTAGATCTGCTTGGACACCTGCCTAACGCAAAGCCTCTAGTGTCAAGCAGGATCATTCTGATATCGAAACGTCACATACCGCAAATACAGGCACCAAGGTGC\n"
     ]
    }
   ],
   "source": [
    "dna= \"GCACCTTGGTGCCTGTATTTGCGGTATGTGACGTTTCGATATCAGAATGATCCTGCTTGACACTAGAGGCTTTGCGTTAGGCAGGTGTCCAAGCAGATCTACCAAAAAGACACTTTACCCTATGAGCCGCCCATGACCATATCGATTCTCACCATTCCGGCGGTGAGAGCGCTGAAATCAGTTATAAAACCTGGAAGTCGTGTCACTTCTACTTCCGATGTGCCGCCTACCATCGTCAGACGTGGGTTGGCAAGACCACAGATGTCGGTCCACCGGCATTAATTACAATTCTCAGCGGACGGTGTAGAAGAGCTTACCTCGTATCGATCCGTTACAAAGCAAACCCCGGATGAGGAACTGGGCCCTGACCTGCTACCGTGGTTCGAACACAGGTGTTCTGGCACGGGAACGGCTAAGCGGGGCAACTTTAAAAGGAGTATGTTTAGACAGCCGCATCGACTGATGAGAAACACTTCTCTAGAGTTCACCCGCGAAAGGCATTGCATCACGGGCGACTTAGCCGAGCATCATGTATAAGTGTCTGGCTTGACAACGACGTTCCAGCAATCGAACATTTCACTAAACTCCCTGGAGTTCACCCACGATGCTTCTAAGAAGCGTAAGTCTGCGAACTTCGTATGGAGCGAGGTGAAGAGATTCAAATAGTTCCGATTTGGTAAGGACCAGCTTCCCTTCTGATGGGTGCGCGTAGCCAACTAGCGCGGACGATAAAAATGCTAATAAATGCCTCCTGACGAGGATCTACACTGTAAACCGCACGTATCTCATACCGCAGGTGAACACGAGCCAACATTATTCATCGGCGGAGTAACAGCGATTGCCTCGCGCGAGACC\"\n",
    "dna = dna.replace(\"A\", \"t\").replace(\"C\", \"g\").replace(\"T\", \"a\").replace(\"G\", \"c\")\n",
    "dna = dna.upper()\n",
    "rev= dna[::-1]\n",
    "print(rev)\n"
   ]
  },
  {
   "cell_type": "markdown",
   "metadata": {},
   "source": [
    "## GC"
   ]
  },
  {
   "cell_type": "code",
   "execution_count": 2,
   "metadata": {},
   "outputs": [
    {
     "name": "stdout",
     "output_type": "stream",
     "text": [
      "Rosalind_3749\n",
      "52.46913580246913\n"
     ]
    }
   ],
   "source": [
    "from Bio import SeqIO\n",
    "from Bio.SeqUtils import GC\n",
    "max_id= None\n",
    "max_gc= 0\n",
    "\n",
    "for x in  SeqIO.parse(\"rosalind_gc.txt\",'fasta'):\n",
    "    seq= str(x.seq)\n",
    "    seq_id= str(x.id)\n",
    "    gc_cont= GC(seq)\n",
    "    if gc_cont > max_gc:\n",
    "        max_gc= gc_cont\n",
    "        max_id= seq_id\n",
    "print(max_id)\n",
    "print(max_gc)"
   ]
  },
  {
   "cell_type": "markdown",
   "metadata": {},
   "source": [
    "## IPRB"
   ]
  },
  {
   "cell_type": "code",
   "execution_count": 3,
   "metadata": {},
   "outputs": [
    {
     "name": "stdout",
     "output_type": "stream",
     "text": [
      "0.75282\n"
     ]
    }
   ],
   "source": [
    "f= open(\"rosalind_iprb.txt\",\"r\")\n",
    "line= f.read().split()\n",
    "\n",
    "k = float(line[0])\n",
    "m = float(line[0])\n",
    "n = float(line[0])                                                                           \n",
    "pop = k + m + n                                               \n",
    "prob = (4*(k*(k-1)+2*k*m+2*k*n+m*n)+3*m*(m-1))/(4*pop*(pop-1))\n",
    "print(round(prob,5))                                                   "
   ]
  },
  {
   "cell_type": "markdown",
   "metadata": {},
   "source": [
    "## SUBS"
   ]
  },
  {
   "cell_type": "code",
   "execution_count": 59,
   "metadata": {},
   "outputs": [
    {
     "name": "stdout",
     "output_type": "stream",
     "text": [
      "57 64 129 145 152 168 214 241 248 269 286 323 362 430 445 506 513 520 614 648 742 796 811 838\n"
     ]
    }
   ],
   "source": [
    "def subs(s1,s2):\n",
    "    pos=[]\n",
    "    for i in range(len(s1)):\n",
    "        if s2 ==s1[i:i+len(s2)]:\n",
    "            pos.append(i+1)\n",
    "    return pos\n",
    "\n",
    "f= open(\"rosalind_subs.txt\",\"r\")\n",
    "s1= f.readline().strip()\n",
    "s2= f.readline().strip()\n",
    "pos= subs(s1,s2)\n",
    "print(' '.join(str(z) for z in pos))"
   ]
  },
  {
   "cell_type": "markdown",
   "metadata": {},
   "source": [
    "## LIA"
   ]
  },
  {
   "cell_type": "code",
   "execution_count": 15,
   "metadata": {},
   "outputs": [
    {
     "name": "stdout",
     "output_type": "stream",
     "text": [
      "0.433\n"
     ]
    }
   ],
   "source": [
    "import math  \n",
    "\n",
    "f= open(\"rosalind_lia.txt\",\"r\")\n",
    "line= f.read().split()\n",
    "x = int(line[0])     # k = number of generations\n",
    "D = int(line[1])    # N = least number with genotype Aa Bb\n",
    "POP = 2**x          \n",
    "                                                                    \n",
    "fin_prob = 0  \n",
    "                                                              \n",
    "for pi in range(D, POP + 1):    \n",
    "    # binomial distribution probability                                               \n",
    "    prob = (math.factorial(POP)/(math.factorial(pi) * math.factorial(POP - pi))) * (0.25**pi) * (0.75**(POP - pi))                                                        \n",
    "    fin_prob += prob                                                        \n",
    "print(round(fin_prob, 3))  "
   ]
  },
  {
   "cell_type": "markdown",
   "metadata": {},
   "source": [
    "## IEV"
   ]
  },
  {
   "cell_type": "code",
   "execution_count": 7,
   "metadata": {},
   "outputs": [
    {
     "name": "stdout",
     "output_type": "stream",
     "text": [
      "155494.5\n"
     ]
    }
   ],
   "source": [
    "\n",
    "f= open(\"rosalind_iev.txt\",\"r\")\n",
    "line= f.read().split()\n",
    "p1= int(line[0])    #AA-AA\n",
    "p2= int(line[1])    #AA-Aa\n",
    "p3= int(line[2])    #AA-aa \n",
    "p4= int(line[3])    #Aa-Aa \n",
    "p5= int(line[4])    #Aa-aa \n",
    "p6= int(line[5])    #aa-aa \n",
    "#parental probability to have at least one dominant allele\n",
    "of_p1= 2\n",
    "of_p2= 2\n",
    "of_p3= 2\n",
    "of_p4= 1.5 #(2* 3/4)\n",
    "of_p5= 1 #(2 * 1/2)\n",
    "of_p6= 0 #(2*0)\n",
    "\n",
    "probability= (p1 * of_p1) +(p2 * of_p2) + (p3 * of_p3) + (p4 * of_p4) + (p5 * of_p5) + (p6 * of_p6)\n",
    "print(probability)   "
   ]
  },
  {
   "cell_type": "markdown",
   "metadata": {},
   "source": [
    "## FIB"
   ]
  },
  {
   "cell_type": "code",
   "execution_count": 8,
   "metadata": {},
   "outputs": [
    {
     "name": "stdout",
     "output_type": "stream",
     "text": [
      "5726623061\n"
     ]
    }
   ],
   "source": [
    "def fibonacci(n,k):\n",
    "    f1= 1\n",
    "    f2= 1\n",
    "    for x in range(n-1):\n",
    "        f2,f1= f1, f1 + (f2*k)\n",
    "        #f1 = f1+(f2*k)\n",
    "        #f2= f1   \n",
    "    return f2\n",
    "    \n",
    "f= open(\"rosalind_fib.txt\",\"r\")\n",
    "line= f.read().split()\n",
    "n= int(line[0])\n",
    "k = int(line[1])\n",
    "\n",
    "print(fibonacci(n,k))\n",
    "#5726623061"
   ]
  },
  {
   "cell_type": "markdown",
   "metadata": {},
   "source": [
    "## HAMM "
   ]
  },
  {
   "cell_type": "code",
   "execution_count": 62,
   "metadata": {},
   "outputs": [
    {
     "name": "stdout",
     "output_type": "stream",
     "text": [
      "446\n"
     ]
    }
   ],
   "source": [
    "f= open(\"rosalind_hamm.txt\",\"r\")\n",
    "line = f.read().splitlines()\n",
    "\n",
    "string1 = line[0]\n",
    "string2 = line[1]\n",
    "\n",
    "count = 0\n",
    "for i in range(len(string1)):\n",
    "    if string1[i]!= string2[i]:\n",
    "        count +=1\n",
    "print(count)"
   ]
  },
  {
   "cell_type": "markdown",
   "metadata": {},
   "source": [
    "## CONS"
   ]
  },
  {
   "cell_type": "code",
   "execution_count": 9,
   "metadata": {},
   "outputs": [
    {
     "name": "stdout",
     "output_type": "stream",
     "text": [
      "CCAAAGTCCTTTTGAAGCGGGTCAAATTAACCAGGCTAGCCTGCTTATAGCGGCCCGATCACTACAATGTTGCTGGTTAGCTACCGCAGATCATACCTAGAGTTCCATTTTCGGTGTTTAATCGCCCCGGGAGATACGCGTATCGATTCATAGAGGGGCGGCAAGGAACACGCGTAATAGCTGGTTATCGTTGGGCGAGCAAGTAGAAGTAGGGAGCTGCAGAAGGCCGCTTATCTGTCTGAGAAGAACGTGCCCTGATATAGTGAATTTGTCTGAAATAGCCGAATGAAAATTGATCTCAGTAGTGTATGCGCAAAAAAACTAACGTATTTTATGCGTAATACCAAATCCTCGGATGTATCAAATAATCATGTATTAGATTGAGGAGTTTGATGCGATGGTGACTAAATAGAGCGGCGGGGGGACATAAGGCTAAACCGACATCTGGGGTTGTGGAAAGCAGAGTTGTCCAGTCCTCACAAAATTTGGCGGCGCCTCAGAGCCGACTTTGTTTAGCTGAGCGCCAGTATGGGTGGGCAGGAGTCCTCTGAGGAATCTAACATCGCTTGAGTTTTGAACTTACATCGCGCGAGAACAGTCTAGAGAGGGCTCTTTAATCTCGCAACCGCTCTGGGGAGGATTCGAGGGCGTTGAGGGCGGATTACGGTCCGGCTTCAAGTAAACTCTTGCTATCCCTCCCATCTAACATCGTACCTAGCGTATTGCGAAGGAAGATACGAAGAAGTAACCTTCCTCGACATCCATGAACGAAAGAACGGAGATATGAAAAAATAACCCCGTTCTGTCAAGAGTACCACCTTGCCCCTGGTTGTAGATTGTAAGGCCTTAGGTCTCATAACGATTTGCATTAACATGGTCCAAGCGCCTCGCTCTGAGAGCTGTGCAGGAGATAATTAGTGCCACAGGGTTCTAGTGGCGCGGAGCACTAGTGTGCATGAGCGTATACTCCTGTTAGG\n",
      "A: 2 3 6 4 4 1 4 3 2 2 2 2 2 3 4 5 3 1 2 2 1 2 1 5 3 4 0 1 4 4 0 2 3 2 1 1 3 3 1 4 2 1 2 3 1 1 5 1 5 1 3 3 1 1 2 2 3 3 2 0 5 3 3 3 3 4 3 2 4 2 1 3 2 3 0 3 3 3 4 2 2 2 4 1 0 2 1 6 2 4 1 2 5 3 4 2 3 2 4 3 4 2 3 0 1 2 5 3 2 1 1 1 2 1 0 3 2 3 0 4 4 2 2 3 3 2 1 3 3 2 2 4 1 4 2 5 3 3 1 2 1 5 1 1 2 4 3 2 2 4 2 3 3 3 3 1 1 2 4 1 1 2 5 4 3 1 6 3 1 6 2 2 2 1 1 4 3 1 3 2 2 2 3 2 2 2 5 2 1 3 4 3 0 1 1 2 1 3 3 3 4 3 1 1 4 2 3 4 1 3 4 1 2 2 3 3 0 1 3 3 4 2 3 6 2 2 1 3 3 2 0 2 4 1 2 3 0 3 3 3 3 4 2 5 6 2 4 6 1 1 2 3 2 3 0 2 3 6 3 4 3 4 3 2 1 4 5 1 3 1 3 1 1 2 3 4 4 4 1 4 2 3 2 4 3 3 3 3 4 5 5 6 0 2 2 4 2 2 2 2 5 1 1 5 1 1 2 4 6 1 1 3 2 3 4 5 4 4 4 5 3 3 2 7 5 2 2 3 5 2 1 1 1 4 1 1 0 1 1 5 4 1 4 2 2 5 3 3 1 0 2 2 1 2 0 6 2 2 1 4 2 1 4 5 5 1 6 5 1 3 4 2 2 1 3 3 2 5 1 5 1 1 3 5 2 2 4 3 1 3 2 2 5 1 1 2 1 4 3 1 2 1 1 5 3 2 6 3 5 2 4 3 6 2 2 1 3 3 3 4 3 0 2 2 4 3 5 2 3 6 0 1 2 1 4 3 4 3 1 2 3 2 4 2 2 0 1 2 2 3 2 1 4 3 1 1 4 4 3 2 2 5 0 4 4 3 2 2 2 2 2 5 2 1 2 3 3 1 4 4 4 5 4 4 3 3 0 1 1 3 2 2 3 2 3 2 1 0 4 3 5 3 2 2 3 4 3 3 2 1 3 1 2 0 4 2 2 2 3 4 0 2 0 3 2 4 2 1 5 4 2 1 2 2 3 2 2 3 4 1 0 5 3 1 1 2 3 2 2 3 4 3 2 5 5 3 0 2 4 3 2 4 3 2 3 2 2 2 3 5 1 3 1 2 1 0 4 4 3 1 2 5 2 6 1 2 2 1 1 1 1 6 2 3 5 2 4 2 1 1 3 4 1 4 4 3 3 1 3 2 3 0 2 2 4 5 4 2 2 1 4 3 2 4 3 3 1 0 2 3 3 3 3 1 1 2 3 3 3 5 2 2 3 2 5 2 3 1 3 2 1 3 1 4 2 3 3 2 3 0 3 2 3 5 3 2 2 3 2 1 2 3 2 2 4 3 4 5 3 1 4 5 5 3 2 1 2 1 2 2 2 4 2 2 1 1 2 2 1 1 4 2 1 2 5 4 3 5 1 0 1 1 3 3 1 3 5 2 1 2 4 4 2 3 2 0 3 5 4 2 2 6 4 3 4 3 4 1 3 5 4 2 4 4 1 2 4 4 3 4 2 3 1 1 3 1 3 4 0 5 1 1 3 4 1 2 5 4 1 1 3 3 4 2 5 4 1 2 2 5 0 4 2 3 2 2 4 4 4 6 3 5 0 4 4 3 2 3 2 0 1 2 3 3 1 2 1 3 5 2 5 1 3 5 1 0 3 1 3 3 2 1 2 2 1 1 0 2 2 3 3 2 2 3 3 6 3 2 2 2 5 4 3 3 1 4 1 1 3 2 4 3 3 1 2 4 3 5 4 2 2 3 0 1 2 1 3 6 3 1 4 4 2 4 0 1 1 1 2 0 5 3 2 0 3 2 4 1 1 3 3 2 2 3 2 3 2 6 3 1 2 1 3 2 3 5 2 1 5 1 3 3 4 4 3 3 4 3 3 3 3 2 4 0 4 3 1 0 1 2 3 2 4 0 2 3 1 1 4 2 2 2 5 1 1 4 2 2 3 2 1 2 0 3 4 5 1 2 4 1 2 2 2 4 1 5 0 1 3 0 1 2 1 0 4 3 3 \n",
      "C: 5 3 3 1 2 1 0 4 5 1 2 2 2 2 0 3 2 4 2 2 3 2 5 2 2 1 1 3 2 3 4 4 2 0 3 5 2 3 1 5 5 3 1 3 3 3 0 4 2 2 5 1 2 5 3 3 2 3 2 5 1 3 1 3 3 2 2 1 2 3 3 2 4 1 2 0 2 1 2 2 3 1 3 4 5 2 4 0 2 3 3 3 4 2 4 4 3 3 2 0 2 2 0 3 4 4 4 3 2 3 2 4 3 1 1 1 2 2 3 2 2 2 5 2 4 3 4 4 2 2 2 2 4 3 1 0 4 1 4 2 3 1 1 4 2 1 1 3 3 2 1 2 1 2 2 2 2 2 5 2 3 4 2 1 3 2 1 1 5 0 3 2 3 3 2 1 2 3 3 3 4 2 3 0 2 3 2 2 5 1 2 1 1 3 2 4 1 2 1 3 2 3 3 1 2 2 1 3 3 2 3 3 3 3 1 2 5 2 0 4 3 2 2 0 1 1 4 5 1 4 2 1 2 4 3 2 0 1 4 1 1 3 2 2 2 3 2 0 5 1 1 2 4 5 4 2 2 0 1 3 1 3 0 1 3 3 2 2 0 3 1 1 4 2 2 3 1 1 1 2 0 3 4 1 3 2 1 3 3 2 1 2 3 2 1 2 1 3 1 4 2 3 3 1 2 3 0 0 1 3 3 4 2 4 1 1 2 0 2 1 2 3 2 1 1 3 2 2 2 1 3 2 3 2 3 3 5 2 2 2 1 3 2 4 5 2 2 3 4 6 3 2 4 2 3 2 2 2 3 1 3 4 2 2 3 1 1 2 3 3 3 2 2 3 3 0 3 1 3 1 1 3 2 0 1 2 4 2 2 1 2 1 2 3 2 3 1 2 2 1 2 1 3 3 4 2 1 3 3 2 1 0 1 0 5 1 0 3 1 0 3 2 2 3 3 4 0 1 2 0 4 2 4 4 2 2 3 3 4 3 3 4 4 2 4 2 2 2 2 2 2 2 0 2 3 3 4 1 2 2 4 1 3 3 0 2 1 1 2 4 6 2 3 3 4 4 0 4 2 4 1 1 2 1 0 0 1 2 3 4 3 1 4 3 4 4 4 6 2 2 2 3 4 7 0 2 3 1 1 3 1 3 2 2 3 3 5 0 1 3 3 6 2 5 5 1 3 1 3 0 2 3 2 2 0 1 3 4 3 2 3 3 3 2 4 5 2 5 2 2 2 0 1 2 2 2 7 2 3 3 3 1 0 4 2 4 1 2 1 2 2 0 2 1 2 3 2 2 4 1 2 1 5 3 3 4 2 7 3 4 2 1 3 2 1 5 3 2 1 4 1 3 3 2 0 2 3 3 2 4 2 4 1 3 2 1 3 2 4 3 4 1 5 2 3 3 5 2 5 2 4 3 2 1 3 1 2 1 2 2 2 1 3 1 0 1 2 1 4 2 2 1 2 2 2 2 2 3 2 4 2 2 1 2 4 3 1 3 4 6 1 1 5 1 1 5 2 2 2 3 2 1 2 4 3 4 2 2 2 4 1 0 3 5 4 6 2 6 6 4 2 3 4 1 2 2 4 1 4 4 2 4 1 3 4 3 3 2 5 2 1 2 3 1 1 5 2 2 3 2 3 1 2 3 1 2 1 6 1 4 2 2 1 0 2 1 3 4 3 5 2 1 4 5 2 5 2 2 4 3 3 4 4 2 2 1 3 1 3 2 3 3 2 1 2 3 5 1 1 3 1 1 2 2 2 2 2 1 2 0 1 2 3 3 2 5 5 4 3 3 3 2 4 1 3 2 3 1 1 2 3 3 1 3 5 4 1 3 4 2 2 3 4 4 5 4 1 2 4 0 2 3 1 3 2 2 1 2 3 3 0 2 1 1 4 5 3 1 2 1 1 3 5 2 4 2 2 2 2 4 1 2 4 3 2 2 4 2 1 3 1 2 6 2 3 2 2 2 3 5 5 3 3 5 3 4 5 3 4 1 4 1 7 1 3 2 3 2 1 4 1 3 2 0 3 2 2 2 0 3 1 3 3 0 1 3 3 2 0 0 4 3 1 5 4 2 3 3 2 2 3 3 3 3 1 1 3 4 2 5 2 2 2 3 5 1 5 2 2 2 2 2 1 2 4 1 1 1 2 0 5 1 3 2 2 2 5 0 4 6 3 2 4 2 1 1 2 \n",
      "G: 1 3 1 3 2 4 2 1 1 1 1 1 3 4 3 1 4 1 4 4 4 1 3 1 2 2 4 2 2 2 3 1 2 5 4 3 0 1 5 1 3 2 4 1 2 2 2 1 0 4 2 5 4 1 3 2 5 2 1 3 1 2 3 1 3 3 3 2 4 1 1 4 2 1 6 5 2 3 3 5 3 2 1 2 4 4 1 0 4 2 1 2 0 2 2 1 3 2 2 4 3 4 3 3 2 2 0 0 2 2 3 3 4 5 4 4 3 1 3 0 3 2 1 3 1 2 2 2 4 5 4 3 4 0 3 3 1 5 2 3 3 1 3 3 3 4 1 1 3 2 1 2 3 3 3 4 5 5 0 4 5 1 2 3 3 4 1 3 2 2 3 3 3 5 3 3 3 3 2 4 1 3 4 5 2 2 3 3 3 4 0 3 5 4 6 2 4 2 5 3 2 2 4 2 3 4 3 1 4 1 3 4 5 5 3 3 2 2 5 3 0 4 2 2 5 4 2 2 5 3 4 3 1 1 2 1 7 3 2 1 4 2 3 1 1 4 2 2 1 6 3 4 2 1 3 2 3 3 2 1 1 3 6 1 4 1 1 3 2 2 4 3 3 3 4 1 2 2 3 3 5 2 3 5 2 2 3 3 3 1 2 1 3 1 4 2 1 3 3 2 1 4 1 2 5 1 4 1 2 1 3 2 3 3 3 4 3 3 2 3 3 1 3 2 4 2 4 2 1 3 2 3 3 1 1 3 3 4 1 1 2 2 3 3 1 1 3 1 1 0 3 2 3 4 4 0 3 3 2 3 2 3 2 2 1 2 3 2 0 2 1 2 5 2 2 3 1 3 5 2 3 1 3 3 4 4 1 4 3 2 1 4 1 0 4 3 4 2 2 6 4 3 3 0 1 3 2 2 2 2 2 4 1 4 1 4 6 3 4 4 4 5 4 3 1 0 2 3 3 2 5 5 1 1 3 3 3 3 3 5 2 2 0 3 2 3 4 3 4 3 1 2 4 1 4 4 0 2 2 4 0 1 5 2 4 1 3 4 3 2 0 1 4 2 1 2 3 2 2 0 3 1 1 3 3 3 3 4 6 1 4 4 2 4 0 2 0 3 2 4 1 4 1 1 5 3 2 2 3 3 4 1 3 4 1 3 0 4 4 1 6 2 5 2 1 2 5 2 0 1 4 5 4 1 5 4 5 3 2 4 5 0 4 3 4 1 2 1 2 3 2 6 4 3 0 1 2 2 1 2 2 2 3 3 3 1 3 2 4 1 4 3 2 2 2 4 1 1 3 1 2 2 2 0 2 3 4 2 5 1 4 1 4 3 3 2 1 3 3 2 2 2 5 1 4 3 3 4 3 3 2 2 3 2 0 3 1 3 2 2 2 4 1 2 2 2 4 4 1 2 2 1 3 4 3 4 2 5 3 2 2 3 3 5 4 6 3 4 3 4 2 2 5 2 4 4 4 3 5 6 2 2 3 3 1 3 4 1 3 3 5 4 1 2 1 1 1 1 3 2 1 1 1 2 1 3 2 3 3 2 2 3 2 1 1 2 2 1 2 4 1 2 2 2 2 1 3 3 1 3 5 1 3 1 2 0 2 3 3 3 1 2 1 2 4 2 3 2 1 4 4 1 1 4 1 2 3 3 4 0 2 5 3 3 5 2 0 0 2 0 0 2 2 3 1 2 3 2 3 1 2 1 3 4 3 5 1 1 3 5 3 2 2 4 1 2 2 4 4 1 6 3 0 2 3 5 3 3 3 3 3 3 3 0 2 1 1 2 3 5 3 2 1 2 3 3 3 3 1 3 0 4 1 1 0 3 3 3 1 1 3 3 2 1 2 2 4 3 4 0 2 3 3 2 3 1 1 3 4 1 4 1 4 4 2 1 3 3 3 4 4 1 0 2 3 1 2 2 1 3 4 3 2 3 2 5 2 1 2 2 1 4 0 1 2 6 4 3 3 3 0 3 3 2 4 3 1 2 4 4 2 3 1 2 4 3 3 1 5 2 3 4 1 6 2 0 3 5 3 4 3 1 2 3 2 0 1 3 3 4 0 3 3 3 0 4 4 5 2 2 1 2 2 4 1 3 3 2 4 3 5 4 2 4 3 3 1 2 2 3 2 3 3 3 1 2 3 5 1 6 1 6 1 2 3 1 2 3 0 1 2 4 1 4 2 4 4 \n",
      "T: 2 1 0 2 2 4 4 2 2 6 5 5 3 1 3 1 1 4 2 2 2 5 1 2 3 3 5 4 2 1 3 3 3 3 2 1 5 3 3 0 0 4 3 3 4 4 3 4 3 3 0 1 3 3 2 3 0 2 5 2 3 2 3 3 1 1 2 5 0 4 5 1 2 5 2 2 3 3 1 1 2 5 2 3 1 2 4 4 2 1 5 3 1 3 0 3 1 3 2 3 1 2 4 4 3 2 1 4 4 4 4 2 1 3 5 2 3 4 4 4 1 4 2 2 2 3 3 1 1 1 2 1 1 3 4 2 2 1 3 3 3 3 5 2 3 1 5 4 2 2 6 3 3 2 2 3 2 1 1 3 1 3 1 2 1 3 2 3 2 2 2 3 2 1 4 2 2 3 2 1 3 3 0 3 4 3 0 3 1 2 4 3 4 2 1 2 4 3 1 1 2 2 2 6 1 2 3 2 2 4 0 2 0 0 3 2 3 5 2 0 3 2 3 2 2 3 3 0 1 1 4 4 3 4 3 4 3 3 1 5 2 1 3 2 1 1 2 2 3 2 4 1 2 1 3 4 2 1 4 2 5 0 1 6 2 2 2 4 5 4 2 5 2 3 1 2 3 3 5 1 3 2 1 0 2 3 3 1 0 2 2 1 4 5 3 2 6 2 4 2 2 2 5 2 2 5 4 5 1 5 3 1 3 0 2 0 1 3 2 1 2 3 3 0 0 3 2 3 2 4 4 4 3 3 5 3 2 3 6 2 3 4 1 1 2 2 2 3 4 4 2 4 2 2 3 2 3 3 4 2 3 2 2 1 1 6 0 1 6 2 2 4 1 4 2 4 4 1 1 2 5 5 2 2 3 2 1 1 4 4 5 3 2 6 3 2 4 2 3 2 2 5 3 2 2 3 1 2 0 4 3 3 2 4 2 4 1 1 2 2 0 3 2 2 2 3 3 4 2 2 1 2 3 4 1 2 0 1 2 0 2 2 2 3 2 5 3 3 2 2 5 5 2 4 2 2 2 3 3 2 4 3 2 1 2 4 4 3 3 2 2 2 1 4 3 1 4 3 2 2 2 3 3 2 4 4 6 3 0 2 1 3 1 1 3 2 5 1 2 1 2 0 3 0 2 1 2 4 4 3 2 5 3 4 2 2 3 4 2 2 1 0 3 0 2 3 0 6 2 5 2 1 2 5 2 3 0 0 1 3 2 2 0 4 1 2 3 2 4 2 2 1 3 0 3 4 1 4 2 2 3 3 4 1 2 3 4 4 2 2 3 4 5 5 5 3 3 3 0 7 4 2 1 1 4 1 2 0 1 4 3 2 1 2 1 1 2 3 5 3 4 1 1 3 2 2 1 2 2 1 3 4 4 3 4 1 2 3 2 4 0 2 2 2 2 2 0 4 2 3 1 3 2 4 3 3 3 1 2 1 4 4 1 2 1 1 2 4 0 2 5 4 2 2 2 1 1 2 0 0 3 4 3 0 2 2 3 3 1 0 2 2 2 5 4 1 3 2 2 4 3 3 2 1 4 2 4 4 3 2 5 3 3 2 4 1 4 1 1 1 3 3 3 5 1 3 0 1 4 3 2 4 3 3 3 4 0 3 1 3 4 2 4 4 3 3 2 1 2 2 1 2 3 0 4 3 2 0 2 1 2 1 2 3 2 5 3 2 2 1 6 4 3 1 4 2 2 2 3 1 4 4 0 0 4 2 1 4 3 2 1 2 2 3 2 1 2 3 3 1 3 2 6 3 3 1 1 2 1 1 3 0 4 3 2 1 2 1 2 2 3 4 2 4 3 3 3 3 3 3 2 2 5 1 4 3 3 3 2 4 3 3 2 3 2 3 5 3 0 7 3 2 4 2 2 1 5 3 1 4 1 3 2 2 3 0 3 5 2 3 1 3 2 5 1 3 3 1 3 1 3 2 4 3 4 2 1 1 4 4 4 0 2 3 5 1 3 4 2 2 0 1 2 3 0 1 0 4 1 2 1 4 0 4 1 2 2 1 1 3 4 2 4 2 2 3 3 2 2 2 3 3 1 3 4 4 2 2 4 3 3 2 2 2 2 1 2 2 5 4 3 3 1 3 6 3 3 3 0 0 1 2 1 2 1 2 2 4 3 3 5 3 6 2 1 2 5 2 3 3 2 1 4 2 4 2 3 6 3 3 4 2 4 4 3 2 1 \n"
     ]
    }
   ],
   "source": [
    "from Bio import SeqIO\n",
    "from collections import Counter\n",
    "import pandas as pd\n",
    "\n",
    "lst = []\n",
    "for x in SeqIO.parse('rosalind_cons.txt', 'fasta'):\n",
    "    lst.append(x.seq)\n",
    "\n",
    "lst_cnt = []\n",
    "for pos in range(len(lst[0])):\n",
    "    new_lst = []\n",
    "    for seq in lst:\n",
    "        new_lst.append(seq[pos])\n",
    "        \n",
    "    lst_cnt.append(Counter(new_lst))\n",
    "\n",
    "for pos in range(len(lst_cnt)):\n",
    "    print(lst_cnt[pos].most_common()[0][0], end='') \n",
    "\n",
    "print()\n",
    "\n",
    "dft = pd.DataFrame(lst_cnt, columns=['A', 'C', 'G', 'T']).fillna(0).T\n",
    "for symbol in ['A', 'C', 'G', 'T']:\n",
    "    print(symbol, end=': ')\n",
    "    dft.loc[symbol].apply(lambda row: print(int(row), end=' '))\n",
    "    print()\n"
   ]
  },
  {
   "cell_type": "markdown",
   "metadata": {},
   "source": [
    "## PROB"
   ]
  },
  {
   "cell_type": "code",
   "execution_count": 10,
   "metadata": {},
   "outputs": [
    {
     "name": "stdout",
     "output_type": "stream",
     "text": [
      "-101.781 -82.958 -78.641 -73.841 -68.63 -64.822 -62.916 -61.034 -60.206 -59.297 -59.312 -59.707 -60.781 -64.222 -69.074 -73.546\n"
     ]
    }
   ],
   "source": [
    "import math\n",
    "import re\n",
    "f= open(\"rosalind_prob (1).txt\",\"r\")\n",
    "line= f.readlines()\n",
    "num= line[1].split()\n",
    "at = len(re.findall('[AT]', line[0]))\n",
    "gc = len(re.findall('[GC]', line[0]))\n",
    "GC_contents = [float(x) for x in num]\n",
    "probabilities = []\n",
    "for j in range(len(GC_contents)):\n",
    "    prob = math.log10((((1 - GC_contents[j]) / 2)**at) * (GC_contents[j] / 2) **gc)\n",
    "    rounding= round(prob,3)\n",
    "    probabilities.append(rounding)\n",
    "\n",
    "print(*probabilities)\n"
   ]
  }
 ],
 "metadata": {
  "kernelspec": {
   "display_name": "Python 3.8.8 ('base')",
   "language": "python",
   "name": "python3"
  },
  "language_info": {
   "codemirror_mode": {
    "name": "ipython",
    "version": 3
   },
   "file_extension": ".py",
   "mimetype": "text/x-python",
   "name": "python",
   "nbconvert_exporter": "python",
   "pygments_lexer": "ipython3",
   "version": "3.8.8"
  },
  "orig_nbformat": 4,
  "vscode": {
   "interpreter": {
    "hash": "40d3a090f54c6569ab1632332b64b2c03c39dcf918b08424e98f38b5ae0af88f"
   }
  }
 },
 "nbformat": 4,
 "nbformat_minor": 2
}
